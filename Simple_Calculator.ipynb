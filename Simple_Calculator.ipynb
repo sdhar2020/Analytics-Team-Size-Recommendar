{
  "nbformat": 4,
  "nbformat_minor": 0,
  "metadata": {
    "colab": {
      "name": "Simple Calculator.ipynb",
      "provenance": [],
      "authorship_tag": "ABX9TyPWySjRSsOZ94f9o60mrbn4",
      "include_colab_link": true
    },
    "kernelspec": {
      "name": "python3",
      "display_name": "Python 3"
    }
  },
  "cells": [
    {
      "cell_type": "markdown",
      "metadata": {
        "id": "view-in-github",
        "colab_type": "text"
      },
      "source": [
        "<a href=\"https://colab.research.google.com/github/sdhar2020/calc/blob/master/Simple_Calculator.ipynb\" target=\"_parent\"><img src=\"https://colab.research.google.com/assets/colab-badge.svg\" alt=\"Open In Colab\"/></a>"
      ]
    },
    {
      "cell_type": "markdown",
      "metadata": {
        "id": "XM2hBHTI3e-g",
        "colab_type": "text"
      },
      "source": [
        "# Simple Calculator\n"
      ]
    },
    {
      "cell_type": "code",
      "metadata": {
        "id": "h1BB2jer4JF6",
        "colab_type": "code",
        "colab": {
          "base_uri": "https://localhost:8080/",
          "height": 34
        },
        "cellView": "form",
        "outputId": "99b892f4-b55d-494d-d285-db54c3618784"
      },
      "source": [
        "#@title Team Size { run: \"auto\" }\n",
        "#@markdown This app let's you \n",
        "Sprint_Plan_Type = 'Production Implementation' #@param [\"Business Analysis\",\"Discovery\",\"Analytics Build\", \"Testing\", \"Production Implementation\", \"Production Monitoring\"]\n",
        "Work_Type = 'Machine Learning' #@param [\"Data Engineering\", \"Data Science\", \"Machine Learning\",\"Deep Learning\"]\n",
        "#@markdown  In the scale of 1-5 (1: Low through 5: High) rate complexity\n",
        "Business_Complexity = 5 #@param {type:\"slider\", min:1, max:5, step:1}\n",
        "Data_Complexity = 2#@param {type:\"slider\", min:1, max:5, step:1}\n",
        "#@markdown Is the team tenured? Working together more than 6 months?\n",
        "Tenured_Team = True #@param {type:\"boolean\"}\n",
        "#@markdown How is the overall tech competency? \n",
        "#@markdown Depending on locale, budget, grade of hire, demand etc., team formed would have a certain level of competency\n",
        "Team_Competency = 'Below Average' #@param [\"Poor\",\"Below Average\", \"Average\", \"Above Average\", \"Exceeds Expectation\"]\n",
        "#@markdown ______________________________________\n",
        "\n",
        "\n",
        "sprnt_pln_type= {\"Business Analysis\": 2,\"Discovery\": 5,\"Analytics Build\":5, \"Testing\": 2, \"Production Implementation\": 3, \"Production Monitoring\":1}\n",
        "effort = sprnt_pln_type[Sprint_Plan_Type]\n",
        "work_type_mult = {\"Data Engineering\": 5, \"Data Science\": 1, \"Machine Learning\": 2,\"Deep Learning\": 3}\n",
        "effort = effort*work_type_mult[Work_Type]\n",
        "biz_comp={1:.5,2:.75,3:1,4:1.5,5:2}\n",
        "effort = effort*biz_comp[Business_Complexity]\n",
        "data_comp = {1:.75,2:1,3:1.25,4:1.5,5:2}\n",
        "effort = effort* data_comp[Data_Complexity]\n",
        "if Tenured_Team:\n",
        "  effort = effort*0.8\n",
        "else:\n",
        "  effort = effort*1.25\n",
        "competency_multiplier= {\"Poor\":5,\"Below Average\":2, \"Average\":1, \"Above Average\":.8, \"Exceeds Expectation\":.5}\n",
        "effort = effort*competency_multiplier[Team_Competency]\n",
        "\n",
        "print(round(effort,2))\n",
        "\n",
        "\n"
      ],
      "execution_count": 9,
      "outputs": [
        {
          "output_type": "stream",
          "text": [
            "19.2\n"
          ],
          "name": "stdout"
        }
      ]
    }
  ]
}